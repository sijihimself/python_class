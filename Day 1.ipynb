{
 "cells": [
  {
   "cell_type": "code",
   "execution_count": 5,
   "id": "ccd01dc5",
   "metadata": {},
   "outputs": [],
   "source": [
    "number = 10\n",
    "xyxyxyxy =25.36\n",
    "num_two =48"
   ]
  },
  {
   "cell_type": "code",
   "execution_count": 7,
   "id": "18fe92a5",
   "metadata": {},
   "outputs": [],
   "source": [
    "num1 =15 #integer\n",
    "num2 =25.0 #float\n",
    "word = 'python'#string\n",
    "x = True #booleans"
   ]
  },
  {
   "cell_type": "code",
   "execution_count": 8,
   "id": "84ad4f08",
   "metadata": {},
   "outputs": [
    {
     "name": "stdout",
     "output_type": "stream",
     "text": [
      "15\n"
     ]
    }
   ],
   "source": [
    "print(num1)"
   ]
  },
  {
   "cell_type": "code",
   "execution_count": 9,
   "id": "535d65e8",
   "metadata": {},
   "outputs": [
    {
     "name": "stdout",
     "output_type": "stream",
     "text": [
      "we're brothers from the other town\n"
     ]
    }
   ],
   "source": [
    "#escape character \\\n",
    "word2 = 'we\\'re brothers from the other town'\n",
    "print (word2)"
   ]
  },
  {
   "cell_type": "code",
   "execution_count": 11,
   "id": "b41a6c81",
   "metadata": {},
   "outputs": [
    {
     "name": "stdout",
     "output_type": "stream",
     "text": [
      "python is fun\n",
      "Python is easy\n",
      "Python is great\n"
     ]
    }
   ],
   "source": [
    "# new Line \\n\n",
    "word3 = 'python is fun\\nPython is easy\\nPython is great'\n",
    "print(word3)"
   ]
  },
  {
   "cell_type": "code",
   "execution_count": 5,
   "id": "1c9b4054",
   "metadata": {},
   "outputs": [
    {
     "name": "stdout",
     "output_type": "stream",
     "text": [
      "python is fun\n",
      "python is great\n",
      "python is easy\n",
      "python is fun\n",
      "\n"
     ]
    }
   ],
   "source": [
    "# multiline string ''' ''' or \"\"\" \"\"\"\n",
    "word4 ='''python is fun\n",
    "python is great\n",
    "python is easy\n",
    "python is fun\n",
    "'''\n",
    "print (word4)"
   ]
  },
  {
   "cell_type": "code",
   "execution_count": 6,
   "id": "084b5d68",
   "metadata": {},
   "outputs": [
    {
     "name": "stdout",
     "output_type": "stream",
     "text": [
      "i sold 5 shirts for 15000, 2 jacket for 6000 and a shoe for 8000\n"
     ]
    }
   ],
   "source": [
    "# string formatting\n",
    "price1 = 8000\n",
    "price2 = 15000\n",
    "price3 = 6000\n",
    "report = 'i sold 5 shirts for {}, 2 jacket for {} and a shoe for {}'\n",
    "print(report.format(price2,price3,price1))"
   ]
  },
  {
   "cell_type": "code",
   "execution_count": 11,
   "id": "2e33e243",
   "metadata": {},
   "outputs": [
    {
     "name": "stdout",
     "output_type": "stream",
     "text": [
      "i sold 5 shirts for 15000, 2 jacket for 6000 and a shoe for 8000\n"
     ]
    }
   ],
   "source": [
    "print(f'i sold 5 shirts for {15000}, 2 jacket for {6000} and a shoe for {8000}')"
   ]
  },
  {
   "cell_type": "code",
   "execution_count": 12,
   "id": "56eaa560",
   "metadata": {},
   "outputs": [
    {
     "name": "stdout",
     "output_type": "stream",
     "text": [
      "hello world\n"
     ]
    }
   ],
   "source": [
    "# string concatenation\n",
    "print ('hello' + ' world') # joining of strings and string"
   ]
  },
  {
   "cell_type": "code",
   "execution_count": 14,
   "id": "dc7ace0a",
   "metadata": {},
   "outputs": [
    {
     "name": "stdout",
     "output_type": "stream",
     "text": [
      "welcome to python class  Ade\n"
     ]
    }
   ],
   "source": [
    "name ='Ade'\n",
    "print ('welcome to python class  ' + name) #Joining of string and variable holding strings value"
   ]
  },
  {
   "cell_type": "code",
   "execution_count": 15,
   "id": "714ac05c",
   "metadata": {},
   "outputs": [
    {
     "name": "stdout",
     "output_type": "stream",
     "text": [
      "PYTHON IS FUN\n",
      "PYTHON IS GREAT\n",
      "PYTHON IS EASY\n",
      "PYTHON IS FUN\n",
      "\n"
     ]
    }
   ],
   "source": [
    "# string method\n",
    "print (word4.upper())"
   ]
  },
  {
   "cell_type": "code",
   "execution_count": 16,
   "id": "8ac05c25",
   "metadata": {},
   "outputs": [
    {
     "name": "stdout",
     "output_type": "stream",
     "text": [
      "python is fun\n",
      "python is great\n",
      "python is easy\n",
      "python is fun\n",
      "\n"
     ]
    }
   ],
   "source": [
    "print (word4.lower())"
   ]
  },
  {
   "cell_type": "code",
   "execution_count": 17,
   "id": "ca4e60b5",
   "metadata": {},
   "outputs": [
    {
     "name": "stdout",
     "output_type": "stream",
     "text": [
      "Python is fun\n",
      "python is great\n",
      "python is easy\n",
      "python is fun\n",
      "\n"
     ]
    }
   ],
   "source": [
    "print (word4.capitalize())"
   ]
  },
  {
   "cell_type": "code",
   "execution_count": 18,
   "id": "82bb9dd4",
   "metadata": {},
   "outputs": [
    {
     "name": "stdout",
     "output_type": "stream",
     "text": [
      "Python Is Fun\n",
      "Python Is Great\n",
      "Python Is Easy\n",
      "Python Is Fun\n",
      "\n"
     ]
    }
   ],
   "source": [
    "print(word4.title())"
   ]
  },
  {
   "cell_type": "code",
   "execution_count": 19,
   "id": "685b00b7",
   "metadata": {},
   "outputs": [
    {
     "name": "stdout",
     "output_type": "stream",
     "text": [
      "['python', 'is', 'fun', 'python', 'is', 'great', 'python', 'is', 'easy', 'python', 'is', 'fun']\n"
     ]
    }
   ],
   "source": [
    "print(word4.split())"
   ]
  },
  {
   "cell_type": "code",
   "execution_count": 22,
   "id": "44c72dc4",
   "metadata": {},
   "outputs": [
    {
     "name": "stdout",
     "output_type": "stream",
     "text": [
      "45\n"
     ]
    }
   ],
   "source": [
    "#data type conversion\n",
    "number1 = int(45.58) # float can be converted to integer\n",
    "print (number1)"
   ]
  },
  {
   "cell_type": "code",
   "execution_count": 23,
   "id": "17084371",
   "metadata": {},
   "outputs": [
    {
     "name": "stdout",
     "output_type": "stream",
     "text": [
      "45.0\n"
     ]
    }
   ],
   "source": [
    "print (float(number1)) # integer can be converted to float"
   ]
  },
  {
   "cell_type": "code",
   "execution_count": 24,
   "id": "e9a266f9",
   "metadata": {},
   "outputs": [
    {
     "name": "stdout",
     "output_type": "stream",
     "text": [
      "15\n",
      "45.23\n"
     ]
    }
   ],
   "source": [
    "print (str(15))\n",
    "print(str(45.23)) # integer and float can be converted to string"
   ]
  },
  {
   "cell_type": "code",
   "execution_count": 25,
   "id": "525b9b0e",
   "metadata": {},
   "outputs": [
    {
     "name": "stdout",
     "output_type": "stream",
     "text": [
      "48.0\n"
     ]
    }
   ],
   "source": [
    "print(float('48')) #string cannot be converted to integer or float except the value is in base 10"
   ]
  },
  {
   "cell_type": "code",
   "execution_count": 28,
   "id": "3681f1ab",
   "metadata": {},
   "outputs": [
    {
     "name": "stdout",
     "output_type": "stream",
     "text": [
      "please enter your name:siji\n"
     ]
    }
   ],
   "source": [
    "# input function \n",
    "name =input('please enter your name:')"
   ]
  },
  {
   "cell_type": "code",
   "execution_count": 29,
   "id": "8f3a7ad1",
   "metadata": {},
   "outputs": [
    {
     "name": "stdout",
     "output_type": "stream",
     "text": [
      "<class 'str'>\n"
     ]
    }
   ],
   "source": [
    "print(type(name))"
   ]
  },
  {
   "cell_type": "code",
   "execution_count": 31,
   "id": "4fabc89d",
   "metadata": {},
   "outputs": [
    {
     "name": "stdout",
     "output_type": "stream",
     "text": [
      "please enter your age:48\n"
     ]
    }
   ],
   "source": [
    "age =int(input('please enter your age:'))"
   ]
  },
  {
   "cell_type": "code",
   "execution_count": 2,
   "id": "bf9a7ebe",
   "metadata": {
    "scrolled": true
   },
   "outputs": [
    {
     "data": {
      "text/plain": [
       "True"
      ]
     },
     "execution_count": 2,
     "metadata": {},
     "output_type": "execute_result"
    }
   ],
   "source": []
  },
  {
   "cell_type": "code",
   "execution_count": null,
   "id": "1358ccfb",
   "metadata": {},
   "outputs": [],
   "source": []
  }
 ],
 "metadata": {
  "kernelspec": {
   "display_name": "Python 3 (ipykernel)",
   "language": "python",
   "name": "python3"
  },
  "language_info": {
   "codemirror_mode": {
    "name": "ipython",
    "version": 3
   },
   "file_extension": ".py",
   "mimetype": "text/x-python",
   "name": "python",
   "nbconvert_exporter": "python",
   "pygments_lexer": "ipython3",
   "version": "3.11.5"
  }
 },
 "nbformat": 4,
 "nbformat_minor": 5
}
