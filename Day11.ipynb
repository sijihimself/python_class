{
 "cells": [
  {
   "cell_type": "markdown",
   "metadata": {},
   "source": [
    "OOP"
   ]
  },
  {
   "cell_type": "code",
   "execution_count": 1,
   "metadata": {},
   "outputs": [],
   "source": [
    "class patientrecord:\n",
    "    def __init__(self, name,age,height,weight, complexion):\n",
    "        self.name = name\n",
    "        self.age = age\n",
    "        self.weight = height\n",
    "        self.height = weight\n",
    "        self.complexion = complexion\n",
    "    def start(self):\n",
    "        print(f'''end\n",
    "              \"name\": {self.name}\n",
    "              \"age\": {self.age}\n",
    "              \"height\":{self.height}\n",
    "              \"weight\": {self.weight}\n",
    "              \"complexion\": {self.complexion}\n",
    "              ''')\n",
    "        \n",
    "    def continetprice(self):\n",
    "        option=input(\"what is your country selection, [usa,rwanda,sweden,nigeria,canada,ghana]\")\n",
    "        if option == \"usa\":\n",
    "            print(\"The amount for usa in dollar is $95(checking body mass..online)\")\n",
    "        elif option == \"rwanda\":\n",
    "           print(\"The amount for rwanda in dollar is $80(checking body mass..online)\") \n",
    "        elif option == \"sweden\":\n",
    "            print(\"The amount for sweden in dollar is $100(checking body mass..online)\")   \n",
    "        elif option == \"nigeria\":\n",
    "            print(\"The amount for nigeria in dollar is $60(checking body mass..online)\")\n",
    "        elif option == \"canada\":\n",
    "            print(\"The amount for canada in dollar is $89(checking body mass..online)\")\n",
    "        elif option == \"ghana\":\n",
    "            print(\"The amount for ghana in dollar is $70(checking body mass..online)\")  \n",
    "    def bodymassindes(self):\n",
    "       height=float(input(\"what is your height in meters:\"))\n",
    "       weight=float(input(\"what is your weight in kg:\"))\n",
    "       bmi=weight/(height**2)\n",
    "       if bmi < 18.5:\n",
    "          print(f\"Your Bmi is {bmi}, you are underweight, see your doctor\")\n",
    "       elif bmi >= 18.5 and bmi <= 24.99:\n",
    "          print(F\"Your Bmi is {bmi}, You are healthy\")   \n",
    "       elif bmi >= 25 and bmi <= 30:\n",
    "          print(F\"Your Bmi is {bmi}, You are healthy\")   \n",
    "       else:\n",
    "          print(F\"Your Bmi is {bmi}, you are extremely obesse, see your doctor immediately..\")\n",
    "health=patientrecord(\"mary\",30,9.0,34,\"dark\")                  "
   ]
  },
  {
   "cell_type": "code",
   "execution_count": 3,
   "metadata": {},
   "outputs": [
    {
     "name": "stdout",
     "output_type": "stream",
     "text": [
      "end\n",
      "              \"name\": mary\n",
      "              \"age\": 30\n",
      "              \"height\":34\n",
      "              \"weight\": 9.0\n",
      "              \"complexion\": dark\n",
      "              \n"
     ]
    }
   ],
   "source": [
    "health.start()"
   ]
  },
  {
   "cell_type": "code",
   "execution_count": 4,
   "metadata": {},
   "outputs": [
    {
     "name": "stdout",
     "output_type": "stream",
     "text": [
      "The amount for nigeria in dollar is $60(checking body mass..online)\n"
     ]
    }
   ],
   "source": [
    "health.continetprice()"
   ]
  },
  {
   "cell_type": "code",
   "execution_count": 2,
   "metadata": {},
   "outputs": [
    {
     "name": "stdout",
     "output_type": "stream",
     "text": [
      "Your Bmi is 0.03777777777777778, you are underweight, see your doctor\n"
     ]
    }
   ],
   "source": [
    "health.bodymassindes()"
   ]
  },
  {
   "cell_type": "markdown",
   "metadata": {},
   "source": [
    "FILE INPUT AND OUTPUT\n",
    "\n",
    "OPEN FILE ## how to check files on computer using python"
   ]
  },
  {
   "cell_type": "code",
   "execution_count": 1,
   "metadata": {},
   "outputs": [
    {
     "name": "stdout",
     "output_type": "stream",
     "text": [
      "\n",
      "python is good in programming for a vertile language\n",
      "early code is a good learning environment and it is fantastic\n"
     ]
    }
   ],
   "source": [
    "file=open(r\"C:\\Users\\sijih\\Documents\\PRACTICE.txt\",\"r\")\n",
    "content=file.read()\n",
    "print(content)"
   ]
  },
  {
   "cell_type": "markdown",
   "metadata": {},
   "source": [
    "WRITE AND SAVE FILES ON COMPUTER USING PYTHON"
   ]
  },
  {
   "cell_type": "code",
   "execution_count": 6,
   "metadata": {},
   "outputs": [],
   "source": [
    "file=open(r\"C:\\Users\\sijih\\Documents\\PRACTICE.txt\",\"w\")\n",
    "file.write(\"\\npython is good in programming for a vertile language\\n\") #using escape character\n",
    "file.write(\"early code is a good learning environment\")\n",
    "file.close()"
   ]
  },
  {
   "cell_type": "markdown",
   "metadata": {},
   "source": [
    "ERROR HANDLING"
   ]
  },
  {
   "cell_type": "code",
   "execution_count": 9,
   "metadata": {},
   "outputs": [
    {
     "ename": "ZeroDivisionError",
     "evalue": "division by zero",
     "output_type": "error",
     "traceback": [
      "\u001b[1;31m---------------------------------------------------------------------------\u001b[0m",
      "\u001b[1;31mZeroDivisionError\u001b[0m                         Traceback (most recent call last)",
      "Cell \u001b[1;32mIn[9], line 3\u001b[0m\n\u001b[0;32m      1\u001b[0m a\u001b[38;5;241m=\u001b[39m\u001b[38;5;28mint\u001b[39m(\u001b[38;5;28minput\u001b[39m(\u001b[38;5;124m\"\u001b[39m\u001b[38;5;124mwhat is yoour name\u001b[39m\u001b[38;5;124m\"\u001b[39m))\n\u001b[0;32m      2\u001b[0m b\u001b[38;5;241m=\u001b[39m\u001b[38;5;28mint\u001b[39m(\u001b[38;5;28minput\u001b[39m(\u001b[38;5;124m\"\u001b[39m\u001b[38;5;124mwhat is your number\u001b[39m\u001b[38;5;124m\"\u001b[39m))\n\u001b[1;32m----> 3\u001b[0m divide\u001b[38;5;241m=\u001b[39m\u001b[43ma\u001b[49m\u001b[38;5;241;43m/\u001b[39;49m\u001b[43mb\u001b[49m\n",
      "\u001b[1;31mZeroDivisionError\u001b[0m: division by zero"
     ]
    }
   ],
   "source": [
    "a=int(input(\"what is yoour name\")) ## zero division error\n",
    "b=int(input(\"what is your number\"))\n",
    "divide=a/b"
   ]
  },
  {
   "cell_type": "code",
   "execution_count": 10,
   "metadata": {},
   "outputs": [
    {
     "name": "stdout",
     "output_type": "stream",
     "text": [
      "Wrong value, integer or float value is expected.\n",
      "End of program!!!\n"
     ]
    }
   ],
   "source": [
    "try: ## try always tell the program u are expecting an error \n",
    "    height=float(input(\"what is your height in meters:\"))\n",
    "    weight=float(input(\"what is your weight in kg:\"))\n",
    "    bmi=weight/(height**2)\n",
    "    if bmi < 18.5:\n",
    "          print(f\"Your Bmi is {bmi}, you are underweight, see your doctor\")\n",
    "    elif bmi >= 18.5 and bmi <= 24.99:\n",
    "        print(F\"Your Bmi is {bmi}, You are healthy\")   \n",
    "    elif bmi >= 25 and bmi <= 30:\n",
    "        print(F\"Your Bmi is {bmi}, You are healthy\")   \n",
    "    else:\n",
    "        print(F\"Your Bmi is {bmi}, you are extremely obesse, see your doctor immediately..\")\n",
    "except ValueError:\n",
    "    print(\"Wrong value, integer or float value is expected.\")\n",
    "except ZeroDivisionError:\n",
    "    print(\"YOU CANNOT DIVIDE BY 0\")  \n",
    "except:\n",
    "    print(\"you have encountred one or more errors..\")\n",
    "finally:\n",
    "    print(\"End of program!!!\")"
   ]
  },
  {
   "cell_type": "code",
   "execution_count": null,
   "metadata": {},
   "outputs": [],
   "source": []
  }
 ],
 "metadata": {
  "kernelspec": {
   "display_name": "Python 3",
   "language": "python",
   "name": "python3"
  },
  "language_info": {
   "codemirror_mode": {
    "name": "ipython",
    "version": 3
   },
   "file_extension": ".py",
   "mimetype": "text/x-python",
   "name": "python",
   "nbconvert_exporter": "python",
   "pygments_lexer": "ipython3",
   "version": "3.12.0"
  }
 },
 "nbformat": 4,
 "nbformat_minor": 2
}
