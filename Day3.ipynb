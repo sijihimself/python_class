{
 "cells": [
  {
   "cell_type": "markdown",
   "id": "05941d3a",
   "metadata": {},
   "source": [
    "## iterable object\n",
    "## range\n",
    "## list\n",
    "## dictionary\n",
    "## turple"
   ]
  },
  {
   "cell_type": "markdown",
   "id": "62220668",
   "metadata": {},
   "source": [
    "## Turple"
   ]
  },
  {
   "cell_type": "code",
   "execution_count": 2,
   "id": "86ef6381",
   "metadata": {},
   "outputs": [],
   "source": [
    "## Turple unchangeable\n",
    "## Turple uses the blacket () as identification\n",
    "## Turple uses index location to access each element."
   ]
  },
  {
   "cell_type": "code",
   "execution_count": 4,
   "id": "66ea4175",
   "metadata": {},
   "outputs": [
    {
     "name": "stdout",
     "output_type": "stream",
     "text": [
      "(10, 24, 78, 100, 40, 60, 90, 89, 'earlycode')\n",
      "<class 'tuple'>\n",
      "9\n"
     ]
    }
   ],
   "source": [
    "numbers=(10,24,78,100,40,60,90,89, \"earlycode\")\n",
    "print(numbers)\n",
    "print(type(numbers))\n",
    "print(len(numbers))"
   ]
  },
  {
   "cell_type": "code",
   "execution_count": 7,
   "id": "8172d8fa",
   "metadata": {},
   "outputs": [
    {
     "name": "stdout",
     "output_type": "stream",
     "text": [
      "90\n",
      "40\n"
     ]
    }
   ],
   "source": [
    "## forward index\n",
    "print(numbers[6])\n",
    "print(numbers[4])"
   ]
  },
  {
   "cell_type": "code",
   "execution_count": 8,
   "id": "ef225c06",
   "metadata": {},
   "outputs": [
    {
     "name": "stdout",
     "output_type": "stream",
     "text": [
      "90\n"
     ]
    }
   ],
   "source": [
    "## backward index\n",
    "print(numbers[-3])"
   ]
  },
  {
   "cell_type": "code",
   "execution_count": 10,
   "id": "80bd1aed",
   "metadata": {},
   "outputs": [
    {
     "name": "stdout",
     "output_type": "stream",
     "text": [
      "90\n"
     ]
    }
   ],
   "source": [
    "## backward index\n",
    "print(numbers[-3])"
   ]
  },
  {
   "cell_type": "code",
   "execution_count": 12,
   "id": "ed1cd3d8",
   "metadata": {},
   "outputs": [
    {
     "name": "stdout",
     "output_type": "stream",
     "text": [
      "(24, 78, 100, 40, 60, 90, 89, 'earlycode')\n",
      "(10, 24, 78, 100, 40, 60, 90, 89, 'earlycode')\n"
     ]
    }
   ],
   "source": [
    "## range index location\n",
    "print (numbers[1:9])  ## forward range\n",
    "print (numbers[0:9]) "
   ]
  },
  {
   "cell_type": "code",
   "execution_count": 13,
   "id": "787ec7bd",
   "metadata": {},
   "outputs": [
    {
     "name": "stdout",
     "output_type": "stream",
     "text": [
      "(24, 78, 100, 40)\n"
     ]
    }
   ],
   "source": [
    "## forward and backward range\n",
    "print(numbers[1:-4])"
   ]
  },
  {
   "cell_type": "code",
   "execution_count": 14,
   "id": "70bf1687",
   "metadata": {},
   "outputs": [
    {
     "name": "stdout",
     "output_type": "stream",
     "text": [
      "(24, 78, 100, 40, 60, 90, 89, 'earlycode')\n"
     ]
    }
   ],
   "source": [
    "## all range forward\n",
    "print (numbers[1::])"
   ]
  },
  {
   "cell_type": "code",
   "execution_count": 16,
   "id": "f76ecade",
   "metadata": {},
   "outputs": [
    {
     "name": "stdout",
     "output_type": "stream",
     "text": [
      "('earlycode', 89, 90, 60, 40, 100, 78, 24, 10)\n"
     ]
    }
   ],
   "source": [
    "## reverse \n",
    "print(numbers[::-1])"
   ]
  },
  {
   "cell_type": "markdown",
   "id": "7c2afbe8",
   "metadata": {},
   "source": [
    "## List"
   ]
  },
  {
   "cell_type": "code",
   "execution_count": 17,
   "id": "7c63c8a3",
   "metadata": {},
   "outputs": [],
   "source": [
    "## list unchanged \n",
    "## list uses the bracket [] as identification \n",
    "## list uses index location to access each element\n",
    "## it takes multiple values"
   ]
  },
  {
   "cell_type": "code",
   "execution_count": 19,
   "id": "9c7efa23",
   "metadata": {},
   "outputs": [
    {
     "name": "stdout",
     "output_type": "stream",
     "text": [
      "['lamnoghini', 'mercedes benz', 'lexus', 'Honda']\n",
      "<class 'list'>\n",
      "4\n"
     ]
    }
   ],
   "source": [
    "cars=[\"lamnoghini\",\"mercedes benz\",\"lexus\",\"Honda\"]\n",
    "print(cars)\n",
    "print(type(cars))\n",
    "print(len(cars))"
   ]
  },
  {
   "cell_type": "code",
   "execution_count": 20,
   "id": "a1ee01fd",
   "metadata": {},
   "outputs": [
    {
     "name": "stdout",
     "output_type": "stream",
     "text": [
      "lexus\n"
     ]
    }
   ],
   "source": [
    "print(cars[2])"
   ]
  },
  {
   "cell_type": "code",
   "execution_count": 21,
   "id": "b804b279",
   "metadata": {},
   "outputs": [
    {
     "name": "stdout",
     "output_type": "stream",
     "text": [
      "['lamnoghini', 'mercedes benz', 'lexus', 'Honda', 'toyota']\n"
     ]
    }
   ],
   "source": [
    "cars.append(\"toyota\")## append is use to add valuesto the a list\n",
    "print(cars)"
   ]
  },
  {
   "cell_type": "code",
   "execution_count": 22,
   "id": "7f15dd93",
   "metadata": {},
   "outputs": [
    {
     "name": "stdout",
     "output_type": "stream",
     "text": [
      "['lamnoghini', 'mercedes benz', 'lexus', 'Honda']\n"
     ]
    }
   ],
   "source": [
    "cars.remove(\"toyota\")\n",
    "print(cars)"
   ]
  },
  {
   "cell_type": "code",
   "execution_count": 25,
   "id": "2d01b3de",
   "metadata": {},
   "outputs": [
    {
     "name": "stdout",
     "output_type": "stream",
     "text": [
      "['lamnoghini', 'mercedes benz', 'lexus', 'Honda', 'toyota', 'maybash', 'toyota', 'maybash', 'toyota', 'maybash', 'honda']\n"
     ]
    }
   ],
   "source": [
    "cars.extend([\"toyota\",\"maybash\",\"honda\"])\n",
    "print(cars)"
   ]
  },
  {
   "cell_type": "code",
   "execution_count": 27,
   "id": "11150dfb",
   "metadata": {},
   "outputs": [
    {
     "name": "stdout",
     "output_type": "stream",
     "text": [
      "['Honda', 'honda', 'lamnoghini', 'lexus', 'maybash', 'maybash', 'maybash', 'mercedes benz', 'toyota', 'toyota', 'toyota']\n"
     ]
    }
   ],
   "source": [
    "cars.sort()## sort arranges the values in alphabetically order\n",
    "print(cars)"
   ]
  },
  {
   "cell_type": "code",
   "execution_count": 31,
   "id": "f708246f",
   "metadata": {},
   "outputs": [
    {
     "name": "stdout",
     "output_type": "stream",
     "text": [
      "['Honda', 'honda', 'lamnoghini', 'lexus', 'maybash', 'maybash', 'maybash', 'mercedes benz', 'toyota', 'toyota', 'toyota']\n"
     ]
    }
   ],
   "source": [
    "car2=cars.copy() ## this makes a duplicate in another variables.\n",
    "print(car2)"
   ]
  },
  {
   "cell_type": "code",
   "execution_count": 32,
   "id": "17451fe8",
   "metadata": {},
   "outputs": [
    {
     "name": "stdout",
     "output_type": "stream",
     "text": [
      "['Honda', 'honda', 'lamnoghini', 'lexus', 'maybash', 'maybash', 'maybash', 'mercedes benz', 'toyota', 'toyota', 'toyota']\n"
     ]
    }
   ],
   "source": [
    "print(cars)"
   ]
  },
  {
   "cell_type": "code",
   "execution_count": 35,
   "id": "270437e2",
   "metadata": {},
   "outputs": [
    {
     "name": "stdout",
     "output_type": "stream",
     "text": [
      "['ekiti', 'fct', 'lagos', 'osun', 'oyo']\n"
     ]
    }
   ],
   "source": [
    "## exercise\n",
    "## make a list of five states in nigeria using list.\n",
    "states=[\"ekiti\",\"fct\",\"lagos\",\"osun\",\"oyo\"]\n",
    "print(states)"
   ]
  },
  {
   "cell_type": "markdown",
   "id": "93c084c1",
   "metadata": {},
   "source": [
    "## Dictionary"
   ]
  },
  {
   "cell_type": "code",
   "execution_count": 36,
   "id": "3a807507",
   "metadata": {},
   "outputs": [],
   "source": [
    "## dictionary is changeable\n",
    "## Dictionary uses the bracket {} as identification \n",
    "## Dictionary  uses index location to access each element"
   ]
  },
  {
   "cell_type": "code",
   "execution_count": 4,
   "id": "d882ecdd",
   "metadata": {},
   "outputs": [
    {
     "name": "stdout",
     "output_type": "stream",
     "text": [
      "{'Name': 'Anita', 'Age': 25, 'Date': '09-05-2024', 'Gender': 'Female'}\n",
      "<class 'dict'>\n"
     ]
    }
   ],
   "source": [
    "personality={\n",
    "    \"Name\": \"Anita\",\n",
    "    \"Age\": 25,\n",
    "    \"Date\":\"09-05-2024\",\n",
    "    \"Gender\":\"Female\"}\n",
    "print(personality)\n",
    "print(type(personality))"
   ]
  },
  {
   "cell_type": "code",
   "execution_count": 40,
   "id": "7e31f159",
   "metadata": {},
   "outputs": [
    {
     "name": "stdout",
     "output_type": "stream",
     "text": [
      "dict_keys(['Name', 'Age', 'Date', 'Gender'])\n",
      "dict_values(['Anita', 25, '09-05-2024', 'Female'])\n"
     ]
    }
   ],
   "source": [
    "print(personality.keys())\n",
    "print(personality.values())"
   ]
  },
  {
   "cell_type": "code",
   "execution_count": 41,
   "id": "cbb21d59",
   "metadata": {},
   "outputs": [
    {
     "name": "stdout",
     "output_type": "stream",
     "text": [
      "Anita\n"
     ]
    }
   ],
   "source": [
    "print(personality[\"Name\"])"
   ]
  },
  {
   "cell_type": "code",
   "execution_count": 43,
   "id": "5185516a",
   "metadata": {},
   "outputs": [
    {
     "name": "stdout",
     "output_type": "stream",
     "text": [
      "25\n"
     ]
    }
   ],
   "source": [
    "print(personality[\"Age\"])"
   ]
  },
  {
   "cell_type": "code",
   "execution_count": 44,
   "id": "f61ecbc6",
   "metadata": {},
   "outputs": [
    {
     "name": "stdout",
     "output_type": "stream",
     "text": [
      "09-05-2024\n"
     ]
    }
   ],
   "source": [
    "print(personality[\"Date\"])"
   ]
  },
  {
   "cell_type": "code",
   "execution_count": 45,
   "id": "db718a79",
   "metadata": {},
   "outputs": [
    {
     "name": "stdout",
     "output_type": "stream",
     "text": [
      "Female\n"
     ]
    }
   ],
   "source": [
    "print(personality['Gender'])"
   ]
  },
  {
   "cell_type": "code",
   "execution_count": 59,
   "id": "d5eb2a2e",
   "metadata": {},
   "outputs": [],
   "source": [
    "## Exercise\n",
    "## create a dictionary of student name and subjects in which they offered with each score awarded to them\n",
    "\n",
    "students={\n",
    "    \"name\":{\"name1\":\"david\",\"name2\":\"joy\",\"name3\":\"musa\",\"name4\":\"femi\"},\n",
    "    \"subjects\":{\"subject1\":\"Futhermath\",\"subject2\":\"History\",\"subject3\":\"English\",\"subject4\":\"Animal Husbandary\"},     \n",
    "    \"score\":{\"score1\":45,\"score2\":67,\"score3\":89,\"score4\":90}}"
   ]
  },
  {
   "cell_type": "code",
   "execution_count": 60,
   "id": "3b12037d",
   "metadata": {},
   "outputs": [
    {
     "name": "stdout",
     "output_type": "stream",
     "text": [
      "musa\n",
      "Animal Husbandary\n",
      "90\n"
     ]
    }
   ],
   "source": [
    "print(students[\"name\"][\"name3\"])\n",
    "print(students[\"subjects\"][\"subject4\"])\n",
    "print(students[\"score\"][\"score4\"])"
   ]
  },
  {
   "cell_type": "code",
   "execution_count": 5,
   "id": "dfa1594e",
   "metadata": {},
   "outputs": [
    {
     "name": "stdout",
     "output_type": "stream",
     "text": [
      "{'Name': 'Anita', 'Age': 25, 'Date': '09-05-2024', 'Gender': 'Female', 'height': 1.97}\n"
     ]
    }
   ],
   "source": [
    "## method1  creating a variable and highing a value inside of it\n",
    "r=({\"height\":1.97})\n",
    "personality.update(r)\n",
    "print(personality)"
   ]
  },
  {
   "cell_type": "code",
   "execution_count": 7,
   "id": "6e956672",
   "metadata": {},
   "outputs": [
    {
     "name": "stdout",
     "output_type": "stream",
     "text": [
      "{'Name': 'Anita', 'Age': 25, 'Date': '09-05-2024', 'Gender': 'Female', 'height': 1.97, 'height2': [1.92]}\n"
     ]
    }
   ],
   "source": [
    "## method2\n",
    "personality[\"height2\"]=[1.92]\n",
    "print(personality)"
   ]
  },
  {
   "cell_type": "code",
   "execution_count": 11,
   "id": "d5d5a48c",
   "metadata": {},
   "outputs": [
    {
     "name": "stdout",
     "output_type": "stream",
     "text": [
      "{'Name': 'Anita', 'Age': 25, 'Date': '09-05-2024', 'Gender': 'Female', 'height': 1.97, 'height2': [1.92], 'marital_status': 'single'}\n"
     ]
    }
   ],
   "source": [
    "## modifying a particular value.\n",
    "personality[\"marital_status\"]=\"single\"\n",
    "print(personality)"
   ]
  },
  {
   "cell_type": "code",
   "execution_count": 14,
   "id": "22934bc0",
   "metadata": {},
   "outputs": [
    {
     "name": "stdout",
     "output_type": "stream",
     "text": [
      "{'Name': 'Anita', 'Age': '30', 'Date': '09-05-2024', 'Gender': 'Female', 'height': 1.97, 'height2': [1.92], 'marital_status': 'single'}\n"
     ]
    }
   ],
   "source": [
    "personality[\"Age\"]=\"30\"\n",
    "personality[\"Date\"]=\"09-05-2024\"\n",
    "print(personality)"
   ]
  },
  {
   "cell_type": "code",
   "execution_count": 15,
   "id": "c85db795",
   "metadata": {},
   "outputs": [
    {
     "name": "stdout",
     "output_type": "stream",
     "text": [
      "{'Name': 'Anita', 'Age': '30', 'Date': '09-05-2024', 'Gender': 'Female', 'height': 1.97, 'height2': [1.92], 'marital_status': 'single'}\n"
     ]
    }
   ],
   "source": [
    "print(personality)"
   ]
  },
  {
   "cell_type": "code",
   "execution_count": null,
   "id": "79db4271",
   "metadata": {},
   "outputs": [],
   "source": []
  }
 ],
 "metadata": {
  "kernelspec": {
   "display_name": "Python 3 (ipykernel)",
   "language": "python",
   "name": "python3"
  },
  "language_info": {
   "codemirror_mode": {
    "name": "ipython",
    "version": 3
   },
   "file_extension": ".py",
   "mimetype": "text/x-python",
   "name": "python",
   "nbconvert_exporter": "python",
   "pygments_lexer": "ipython3",
   "version": "3.11.5"
  }
 },
 "nbformat": 4,
 "nbformat_minor": 5
}
