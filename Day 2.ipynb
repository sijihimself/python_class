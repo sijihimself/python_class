{
 "cells": [
  {
   "cell_type": "code",
   "execution_count": null,
   "id": "3647003c",
   "metadata": {},
   "outputs": [],
   "source": [
    "## operators\n",
    "## arithemetic operator\n",
    "## addition operator +\n",
    "## subtraction operator -\n",
    "## multiplication operator *\n",
    "## division/\n",
    "## floor division //\n",
    "## exponiatia **\n",
    "## remider/modulus %"
   ]
  },
  {
   "cell_type": "code",
   "execution_count": 5,
   "id": "79faa4f6",
   "metadata": {},
   "outputs": [
    {
     "name": "stdout",
     "output_type": "stream",
     "text": [
      "what is the number:9\n",
      "what is the second number:5\n",
      "9+5=14\n",
      "9-5=4\n",
      "9*5=45\n",
      "9/5=1.8\n",
      "9**5=59049\n",
      "9//5=1\n",
      "9%5=4\n"
     ]
    }
   ],
   "source": [
    "num1= int(input(\"what is the number:\"))\n",
    "num2= int(input(\"what is the second number:\"))\n",
    "print (f'{num1}+{num2}={num1 + num2}')\n",
    "print (f'{num1}-{num2}={num1 - num2}')                  ## ARITHEMETIC OPERATOR\n",
    "print (f'{num1}*{num2}={num1 * num2}')\n",
    "print (f'{num1}/{num2}={num1 / num2}')\n",
    "print (f'{num1}**{num2}={num1 ** num2}')\n",
    "print (f'{num1}//{num2}={num1 // num2}')\n",
    "print (f'{num1}%{num2}={num1 % num2}') "
   ]
  },
  {
   "cell_type": "code",
   "execution_count": 7,
   "id": "e43f38bb",
   "metadata": {},
   "outputs": [
    {
     "name": "stdout",
     "output_type": "stream",
     "text": [
      " the profit made is $ 600\n"
     ]
    }
   ],
   "source": [
    "## exercise\n",
    "## a person bought a computer for $1,200 and sold it for $1,800\n",
    "## calculate the profite made.\n",
    "purchase_price=1200\n",
    "selling_price=1800\n",
    "profit=selling_price - purchase_price\n",
    "print(\" the profit made is $\",profit)"
   ]
  },
  {
   "cell_type": "code",
   "execution_count": null,
   "id": "7354dcb3",
   "metadata": {},
   "outputs": [],
   "source": []
  }
 ],
 "metadata": {
  "kernelspec": {
   "display_name": "Python 3 (ipykernel)",
   "language": "python",
   "name": "python3"
  },
  "language_info": {
   "codemirror_mode": {
    "name": "ipython",
    "version": 3
   },
   "file_extension": ".py",
   "mimetype": "text/x-python",
   "name": "python",
   "nbconvert_exporter": "python",
   "pygments_lexer": "ipython3",
   "version": "3.11.5"
  }
 },
 "nbformat": 4,
 "nbformat_minor": 5
}
