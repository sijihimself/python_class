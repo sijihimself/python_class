{
 "cells": [
  {
   "cell_type": "markdown",
   "id": "8e582121",
   "metadata": {},
   "source": [
    "RANGE"
   ]
  },
  {
   "cell_type": "code",
   "execution_count": 1,
   "id": "9b1254b5",
   "metadata": {},
   "outputs": [
    {
     "name": "stdout",
     "output_type": "stream",
     "text": [
      "1\n",
      "2\n",
      "3\n",
      "4\n",
      "5\n",
      "6\n",
      "7\n",
      "8\n",
      "9\n",
      "10\n"
     ]
    }
   ],
   "source": [
    "## range impilifies by beginning a particular number to a determined number.\n",
    "for h in range(1,11):\n",
    "    print(h)"
   ]
  },
  {
   "cell_type": "code",
   "execution_count": 12,
   "id": "85143fe5",
   "metadata": {},
   "outputs": [
    {
     "name": "stdout",
     "output_type": "stream",
     "text": [
      "PLAYER TWO WINS\n",
      " player one score is :6\n",
      " player two score is :8\n",
      "PLAYER TWO WINS\n",
      " player one score is :7\n",
      " player two score is :9\n",
      "PLAYER TWO WINS\n",
      " player one score is :7\n",
      " player two score is :9\n",
      "DRAW\n",
      " player one score is :7\n",
      " player two score is :7\n",
      "PLAYER ONE WINS\n",
      " player one score is :7\n",
      " player two score is :5\n",
      "PLAYER TWO WINS\n",
      " player one score is :2\n",
      " player two score is :6\n",
      "PLAYER TWO WINS\n",
      " player one score is :5\n",
      " player two score is :6\n",
      "PLAYER ONE WINS\n",
      " player one score is :11\n",
      " player two score is :8\n",
      "PLAYER TWO WINS\n",
      " player one score is :7\n",
      " player two score is :9\n",
      "PLAYER TWO WINS\n",
      " player one score is :8\n",
      " player two score is :12\n",
      "player two is the overall winner by 36 point\n"
     ]
    }
   ],
   "source": [
    "score1=0\n",
    "score2=0\n",
    "import random\n",
    "for q in range(1,11):\n",
    "    dice1=(random.randint(1,6) + random.randint(1,6))\n",
    "    dice2=(random.randint(1,6) + random.randint(1,6))\n",
    "    \n",
    "    if dice1 > dice2:\n",
    "        score1 +=5\n",
    "        print(\"PLAYER ONE WINS\")\n",
    "        print(f\" player one score is :{dice1}\")\n",
    "        print(f\" player two score is :{dice2}\")\n",
    "        \n",
    "    elif dice2 > dice1:\n",
    "        score2 +=5\n",
    "        print(\"PLAYER TWO WINS\")\n",
    "        print(f\" player one score is :{dice1}\")\n",
    "        print(f\" player two score is :{dice2}\")\n",
    "        \n",
    "    elif dice2 == dice1:\n",
    "        score2 +=1\n",
    "        score1 +=1\n",
    "        print(\"DRAW\")\n",
    "        print(f\" player one score is :{dice1}\")\n",
    "        print(f\" player two score is :{dice2}\")\n",
    "if score1 > score2:\n",
    "    print(f\"player one is the overall winner by {score1} point\")\n",
    "elif score2 > score1:\n",
    "    print(f\"player two is the overall winner by {score2} point\")\n",
    "elif score2 ==score1:\n",
    "          print(f\"draw between two players try again.\")\n",
    "        "
   ]
  },
  {
   "cell_type": "markdown",
   "id": "e44492b5",
   "metadata": {},
   "source": [
    "## FUNCTIONS"
   ]
  },
  {
   "cell_type": "code",
   "execution_count": 13,
   "id": "49a09731",
   "metadata": {},
   "outputs": [
    {
     "name": "stdout",
     "output_type": "stream",
     "text": [
      "welcome to python class\n"
     ]
    }
   ],
   "source": [
    "def greet():\n",
    "    print(\"welcome to python class\")\n",
    "greet()"
   ]
  },
  {
   "cell_type": "code",
   "execution_count": 16,
   "id": "c291aa4d",
   "metadata": {},
   "outputs": [
    {
     "name": "stdout",
     "output_type": "stream",
     "text": [
      "welcome to python class earlycode\n"
     ]
    }
   ],
   "source": [
    "def greet2(name):\n",
    "    print(f\"welcome to python class {name}\")\n",
    "greet2(\"earlycode\")"
   ]
  },
  {
   "cell_type": "code",
   "execution_count": 18,
   "id": "2e867e4e",
   "metadata": {},
   "outputs": [
    {
     "name": "stdout",
     "output_type": "stream",
     "text": [
      "_____CITIZEN DETAILS____\n",
      "    \"Name\": John\n",
      "    \"Age\": 22\n",
      "    \"Gender\":male\n",
      "you are eligible to vote\n"
     ]
    }
   ],
   "source": [
    "def vote(name,age,gender):\n",
    "    print(f\"\"\"_____CITIZEN DETAILS____\n",
    "    \"Name\": {name}\n",
    "    \"Age\": {age}\n",
    "    \"Gender\":{gender}\"\"\")\n",
    "    if age >= 18:\n",
    "        print(\"you are eligible to vote\")\n",
    "    else:\n",
    "        print(\"YOU ARE NOT ELIGIBLE TO VOTE... TRY NEXT YEAR\")\n",
    "vote(\"John\",22, \"male\")        "
   ]
  },
  {
   "cell_type": "code",
   "execution_count": 20,
   "id": "ddef112c",
   "metadata": {},
   "outputs": [
    {
     "name": "stdout",
     "output_type": "stream",
     "text": [
      "_____CITIZEN DETAILS____\n",
      "    \"Name\": John\n",
      "    \"Age\": 16\n",
      "    \"Gender\":male\n",
      "you are only allowed to vote in a primary sector.\n"
     ]
    }
   ],
   "source": [
    "def vote(name,age,gender):\n",
    "    print(f\"\"\"_____CITIZEN DETAILS____\n",
    "    \"Name\": {name}\n",
    "    \"Age\": {age}\n",
    "    \"Gender\":{gender}\"\"\")\n",
    "    if age >= 18:\n",
    "        print(\"you are eligible to vote\")\n",
    "    elif age >= 16:\n",
    "        print(\"you are only allowed to vote in a primary sector.\")\n",
    "    else:\n",
    "        print(\"YOU ARE NOT ELIGIBLE TO VOTE... TRY NEXT YEAR\")\n",
    "vote(\"John\",16, \"male\") "
   ]
  },
  {
   "cell_type": "code",
   "execution_count": 26,
   "id": "5bbe12a7",
   "metadata": {},
   "outputs": [
    {
     "name": "stdout",
     "output_type": "stream",
     "text": [
      "_____CITIZEN DETAILS____\n",
      "    \"Name\": John\n",
      "    \"Age\": 17\n",
      "    \"Gender\":female\n",
      "YOU ARE NOT ELIGIBLE TO VOTE... TRY NEXT YEAR\n"
     ]
    }
   ],
   "source": [
    "def vote(name,age,gender):\n",
    "    print(f\"\"\"_____CITIZEN DETAILS____\n",
    "    \"Name\": {name}\n",
    "    \"Age\": {age}\n",
    "    \"Gender\":{gender}\"\"\")\n",
    "    if age >= 18:\n",
    "        print(\"you are eligible to vote\")\n",
    "    elif gender== \"male\":\n",
    "        print(\"you are eligible to vote\")\n",
    "    else:\n",
    "        print(\"YOU ARE NOT ELIGIBLE TO VOTE... TRY NEXT YEAR\")\n",
    "vote(\"John\",17, \"female\")"
   ]
  },
  {
   "cell_type": "code",
   "execution_count": 27,
   "id": "b1f4660d",
   "metadata": {},
   "outputs": [
    {
     "name": "stdout",
     "output_type": "stream",
     "text": [
      "_____CITIZEN DETAILS____\n",
      "    \"Name\": John\n",
      "    \"Age\": 17\n",
      "    \"Gender\":female\n",
      "YOU ARE NOT ELIGIBLE TO VOTE... TRY NEXT YEAR\n"
     ]
    }
   ],
   "source": [
    "def vote(name,age,gender):\n",
    "    print(f\"\"\"_____CITIZEN DETAILS____\n",
    "    \"Name\": {name}\n",
    "    \"Age\": {age}\n",
    "    \"Gender\":{gender}\"\"\")\n",
    "    if age >= 18 and gender ==\"male\":\n",
    "        print(\"you are eligible to vote\")\n",
    "    elif gender== \"male\":\n",
    "        print(\"you are eligible to vote\")\n",
    "    else:\n",
    "        print(\"YOU ARE NOT ELIGIBLE TO VOTE... TRY NEXT YEAR\")\n",
    "vote(\"John\",17, \"female\")"
   ]
  },
  {
   "cell_type": "code",
   "execution_count": 34,
   "id": "7d030253",
   "metadata": {},
   "outputs": [
    {
     "name": "stdout",
     "output_type": "stream",
     "text": [
      "_____CITIZEN DETAILS____\n",
      "    \"Name\": John\n",
      "    \"Age\": 15\n",
      "    \"Gender\":male\n",
      "YOU ARE NOT ELIGIBLE TO VOTE... TRY NEXT YEAR\n"
     ]
    }
   ],
   "source": [
    "def vote(name,gender,age=18): ## default parameter set age in a static mode\n",
    "    print(f\"\"\"_____CITIZEN DETAILS____\n",
    "    \"Name\": {name}\n",
    "    \"Age\": {age}\n",
    "    \"Gender\":{gender}\"\"\")\n",
    "    if age > 18:\n",
    "        print(\"you are eligible to vote\")\n",
    "    else:\n",
    "        print(\"YOU ARE NOT ELIGIBLE TO VOTE... TRY NEXT YEAR\")\n",
    "vote(\"John\",\"male\",15)"
   ]
  },
  {
   "cell_type": "code",
   "execution_count": 61,
   "id": "4cbe25fe",
   "metadata": {},
   "outputs": [
    {
     "name": "stdout",
     "output_type": "stream",
     "text": [
      "_____CITIZEN DETAILS____\n",
      "    \"Name\": John\n",
      "    \"Age\": 18\n",
      "    \"Gender\":male\n",
      "    \"Height\":20.3\n",
      "YOU ARE NOT ELIGIBLE TO VOTE... TRY NEXT YEAR\n"
     ]
    }
   ],
   "source": [
    "def vote(name,gender,height=18.3,age=18): ## default parameter set age in a static mode\n",
    "    print(f\"\"\"_____CITIZEN DETAILS____\n",
    "    \"Name\": {name}\n",
    "    \"Age\": {age}\n",
    "    \"Gender\":{gender}\n",
    "    \"Height\":{height}\"\"\")\n",
    "    if age > 18 and height >= 18.3:\n",
    "        print(\"you are eligible to vote\")\n",
    "    else:\n",
    "        print(\"YOU ARE NOT ELIGIBLE TO VOTE... TRY NEXT YEAR\")\n",
    "vote(\"John\",\"male\",20.3,18)"
   ]
  },
  {
   "cell_type": "code",
   "execution_count": null,
   "id": "98e4b921",
   "metadata": {},
   "outputs": [],
   "source": []
  },
  {
   "cell_type": "code",
   "execution_count": null,
   "id": "9a555306",
   "metadata": {},
   "outputs": [],
   "source": []
  },
  {
   "cell_type": "code",
   "execution_count": null,
   "id": "640da606",
   "metadata": {},
   "outputs": [],
   "source": []
  }
 ],
 "metadata": {
  "kernelspec": {
   "display_name": "Python 3 (ipykernel)",
   "language": "python",
   "name": "python3"
  },
  "language_info": {
   "codemirror_mode": {
    "name": "ipython",
    "version": 3
   },
   "file_extension": ".py",
   "mimetype": "text/x-python",
   "name": "python",
   "nbconvert_exporter": "python",
   "pygments_lexer": "ipython3",
   "version": "3.11.5"
  }
 },
 "nbformat": 4,
 "nbformat_minor": 5
}
