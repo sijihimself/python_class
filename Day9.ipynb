{
 "cells": [
  {
   "cell_type": "code",
   "execution_count": 1,
   "id": "8a168382",
   "metadata": {},
   "outputs": [],
   "source": [
    "## write a python class named rectangle to represent rectangles with each attributes and methods."
   ]
  },
  {
   "cell_type": "code",
   "execution_count": 12,
   "id": "06c0e6a4",
   "metadata": {},
   "outputs": [],
   "source": [
    "class Rectangle:\n",
    "    def __init__(self,width,height):\n",
    "        self.width=width\n",
    "        self.height=height\n",
    "    def area(self):\n",
    "        return self.width * self.height\n",
    "    def parameter(self):\n",
    "        return 2 * (self.width + self.height)\n",
    "rect=Rectangle(5,4)   \n",
    "  "
   ]
  },
  {
   "cell_type": "code",
   "execution_count": 13,
   "id": "0f07cfc5",
   "metadata": {},
   "outputs": [
    {
     "data": {
      "text/plain": [
       "20"
      ]
     },
     "execution_count": 13,
     "metadata": {},
     "output_type": "execute_result"
    }
   ],
   "source": [
    "rect.area()"
   ]
  },
  {
   "cell_type": "code",
   "execution_count": 15,
   "id": "e0de6a13",
   "metadata": {},
   "outputs": [
    {
     "data": {
      "text/plain": [
       "18"
      ]
     },
     "execution_count": 15,
     "metadata": {},
     "output_type": "execute_result"
    }
   ],
   "source": [
    "rect.parameter()"
   ]
  },
  {
   "cell_type": "code",
   "execution_count": 16,
   "id": "cd6fa66c",
   "metadata": {},
   "outputs": [],
   "source": [
    "## write a simulation program that has the following attributes\n",
    "## [brand,model,color,year,speed] and the following methods:\n",
    "## [start,change gear, acceration and stop]."
   ]
  },
  {
   "cell_type": "code",
   "execution_count": 12,
   "id": "dff3f45c",
   "metadata": {},
   "outputs": [],
   "source": [
    "class Car: ## parent class\n",
    "    def __init__(self,brand,model,color,year,speed):\n",
    "        self.brand=brand\n",
    "        self.model=model\n",
    "        self.color=color\n",
    "        self.year=year\n",
    "        self.speed=speed\n",
    "    def start(self):\n",
    "        print(f\"{self.brand} {self.model} started\")\n",
    "    def gear(self):\n",
    "        option=input(\"choose gear option with,[1,2,3,4,5,R]\")\n",
    "        if option ==\"1\":\n",
    "            print(f\"Gear selection has been changed one{self.model}\")\n",
    "    def acceration(self):\n",
    "        option=input(\"choose gear option with,[1,2,3,4,5,R]\")\n",
    "        if option ==\"1\":\n",
    "            print(f\"Gear selection has been changed one{self.model}\")\n",
    "        elif option ==\"2\":\n",
    "            print(f\"Gear selection has been changed two{self.model}\")\n",
    "        elif option ==\"3\":\n",
    "            print(f\"Gear selection has been changed three{self.model}\")\n",
    "        elif option ==\"4\":\n",
    "            print(f\"Gear selection has been changed four{self.model}\")\n",
    "        elif option ==\"5\":\n",
    "            print(f\"Gear selection has been changed five{self.model}\")\n",
    "        elif option ==\"1\":\n",
    "            print(\"REVERSE\")\n",
    "            \n",
    "    def acceleration(self):\n",
    "        option=input(\"CHOOSE A NITRO SELECTION [ON,OFF]\")\n",
    "        if option ==\"ON\":\n",
    "            print(\"NITRO ENGAGED!!!!!!\")\n",
    "        elif option ==\"OFF\":\n",
    "            print(\"Nitro in safe mode.\")\n",
    "    def stop(self):\n",
    "        print(\"ENGINE OFF\")\n",
    "car1=Car(\"MERCEDES BENZ\", \"AMG\", \"BLACK\", 2023, \"300mph\")\n",
    "                   "
   ]
  },
  {
   "cell_type": "code",
   "execution_count": 3,
   "id": "09abc73c",
   "metadata": {},
   "outputs": [
    {
     "name": "stdout",
     "output_type": "stream",
     "text": [
      "MERCEDES BENZ MERCEDES BENZ has started\n"
     ]
    }
   ],
   "source": [
    "car1.start()"
   ]
  },
  {
   "cell_type": "code",
   "execution_count": 20,
   "id": "7e2a9253",
   "metadata": {},
   "outputs": [
    {
     "name": "stdout",
     "output_type": "stream",
     "text": [
      "choose gear option with,[1,2,3,4,5,R]1\n",
      "Gear selection has been changed oneAMG\n"
     ]
    }
   ],
   "source": [
    "car1.gear()"
   ]
  },
  {
   "cell_type": "code",
   "execution_count": 21,
   "id": "984cdf26",
   "metadata": {},
   "outputs": [
    {
     "name": "stdout",
     "output_type": "stream",
     "text": [
      "CHOOSE A NITRO SELECTION [ON,OFF]ON\n",
      "NITRO ENGAGED!!!!!!\n"
     ]
    }
   ],
   "source": [
    "car1.acceleration()"
   ]
  },
  {
   "cell_type": "code",
   "execution_count": 22,
   "id": "19509bae",
   "metadata": {},
   "outputs": [
    {
     "name": "stdout",
     "output_type": "stream",
     "text": [
      "ENGINE OFF\n"
     ]
    }
   ],
   "source": [
    "car1.stop()"
   ]
  },
  {
   "cell_type": "code",
   "execution_count": 14,
   "id": "b399a95e",
   "metadata": {},
   "outputs": [],
   "source": [
    "class car2(Car): ## child class(new class)\n",
    "    def openroof(self):\n",
    "        option=input(\"what is condition[open,close]:\")\n",
    "        if option == \"open\":\n",
    "            print(\"CAR ROOF TOP OPENING\")\n",
    "        elif option == \"close\":\n",
    "            print(\"car roof top closed...\") \n",
    "mercedes=car2(\"MERCEDES BENZ\", \"AMG 4+\", \"BLACK\", 2024, \"400mph\")               "
   ]
  },
  {
   "cell_type": "code",
   "execution_count": 15,
   "id": "33fa911f",
   "metadata": {},
   "outputs": [
    {
     "name": "stdout",
     "output_type": "stream",
     "text": [
      "MERCEDES BENZ AMG 4+ started\n"
     ]
    }
   ],
   "source": [
    "mercedes.start()"
   ]
  },
  {
   "cell_type": "code",
   "execution_count": 9,
   "id": "db565e64",
   "metadata": {},
   "outputs": [
    {
     "name": "stdout",
     "output_type": "stream",
     "text": [
      "NITRO ENGAGED!!!!!!\n"
     ]
    }
   ],
   "source": [
    "mercedes.acceleration()"
   ]
  },
  {
   "cell_type": "code",
   "execution_count": null,
   "id": "18421f78",
   "metadata": {},
   "outputs": [],
   "source": []
  }
 ],
 "metadata": {
  "kernelspec": {
   "display_name": "Python 3 (ipykernel)",
   "language": "python",
   "name": "python3"
  },
  "language_info": {
   "codemirror_mode": {
    "name": "ipython",
    "version": 3
   },
   "file_extension": ".py",
   "mimetype": "text/x-python",
   "name": "python",
   "nbconvert_exporter": "python",
   "pygments_lexer": "ipython3",
   "version": "3.11.5"
  }
 },
 "nbformat": 4,
 "nbformat_minor": 5
}
