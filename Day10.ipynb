{
 "cells": [
  {
   "cell_type": "markdown",
   "metadata": {},
   "source": [
    "Date and Time"
   ]
  },
  {
   "cell_type": "code",
   "execution_count": 1,
   "metadata": {},
   "outputs": [
    {
     "name": "stdout",
     "output_type": "stream",
     "text": [
      "['MAXYEAR', 'MINYEAR', 'UTC', '__all__', '__builtins__', '__cached__', '__doc__', '__file__', '__loader__', '__name__', '__package__', '__spec__', 'date', 'datetime', 'datetime_CAPI', 'sys', 'time', 'timedelta', 'timezone', 'tzinfo']\n"
     ]
    }
   ],
   "source": [
    "import datetime\n",
    "print(dir(datetime))"
   ]
  },
  {
   "cell_type": "code",
   "execution_count": 2,
   "metadata": {},
   "outputs": [
    {
     "data": {
      "text/plain": [
       "datetime.date(2024, 3, 2)"
      ]
     },
     "execution_count": 2,
     "metadata": {},
     "output_type": "execute_result"
    }
   ],
   "source": [
    "date1=datetime.date(2024,3,2)\n",
    "date1"
   ]
  },
  {
   "cell_type": "code",
   "execution_count": 3,
   "metadata": {},
   "outputs": [
    {
     "name": "stdout",
     "output_type": "stream",
     "text": [
      "2024\n",
      "2\n",
      "3\n",
      "5\n"
     ]
    }
   ],
   "source": [
    "print(date1.year)\n",
    "print(date1.day)\n",
    "print(date1.month)\n",
    "print(date1.weekday())"
   ]
  },
  {
   "cell_type": "code",
   "execution_count": 7,
   "metadata": {},
   "outputs": [
    {
     "data": {
      "text/plain": [
       "datetime.date(2024, 3, 4)"
      ]
     },
     "execution_count": 7,
     "metadata": {},
     "output_type": "execute_result"
    }
   ],
   "source": [
    "## PRINTING CURRENT DATE\n",
    "\n",
    "currentdate=datetime.date.today()\n",
    "currentdate"
   ]
  },
  {
   "cell_type": "code",
   "execution_count": 8,
   "metadata": {},
   "outputs": [
    {
     "data": {
      "text/plain": [
       "'04 of March, 2024'"
      ]
     },
     "execution_count": 8,
     "metadata": {},
     "output_type": "execute_result"
    }
   ],
   "source": [
    "## strftime: this used for MODIFICATION OF TIME AND DATE in string format\n",
    "currentdate.strftime(\"%d of %B, %Y\")\n"
   ]
  },
  {
   "cell_type": "code",
   "execution_count": 13,
   "metadata": {},
   "outputs": [
    {
     "data": {
      "text/plain": [
       "datetime.time(11, 8, 16, 776842)"
      ]
     },
     "execution_count": 13,
     "metadata": {},
     "output_type": "execute_result"
    }
   ],
   "source": [
    "current_time=datetime.datetime.now().time()\n",
    "current_time"
   ]
  },
  {
   "cell_type": "code",
   "execution_count": 14,
   "metadata": {},
   "outputs": [
    {
     "data": {
      "text/plain": [
       "'11:08,16,AM'"
      ]
     },
     "execution_count": 14,
     "metadata": {},
     "output_type": "execute_result"
    }
   ],
   "source": [
    "current_time.strftime(\"%H:%M,%S,%p\")"
   ]
  },
  {
   "cell_type": "markdown",
   "metadata": {},
   "source": [
    "use an input fuction now"
   ]
  },
  {
   "cell_type": "code",
   "execution_count": 19,
   "metadata": {},
   "outputs": [
    {
     "data": {
      "text/plain": [
       "datetime.date(2024, 5, 20)"
      ]
     },
     "execution_count": 19,
     "metadata": {},
     "output_type": "execute_result"
    }
   ],
   "source": [
    "cdate=input(\"Enter your date[mm/dd/yy]\")\n",
    "condate=datetime.datetime.strptime(cdate,\"%m/%d/%Y\").date()\n",
    "condate"
   ]
  },
  {
   "cell_type": "code",
   "execution_count": 20,
   "metadata": {},
   "outputs": [
    {
     "data": {
      "text/plain": [
       "datetime.timedelta(days=-77)"
      ]
     },
     "execution_count": 20,
     "metadata": {},
     "output_type": "execute_result"
    }
   ],
   "source": [
    "## calculate previous days\n",
    "currentdate - condate"
   ]
  },
  {
   "cell_type": "code",
   "execution_count": 24,
   "metadata": {},
   "outputs": [
    {
     "data": {
      "text/plain": [
       "datetime.date(2023, 10, 6)"
      ]
     },
     "execution_count": 24,
     "metadata": {},
     "output_type": "execute_result"
    }
   ],
   "source": [
    "## calculate future date\n",
    "currentdate - datetime.timedelta(days=150)"
   ]
  },
  {
   "cell_type": "code",
   "execution_count": 22,
   "metadata": {},
   "outputs": [
    {
     "data": {
      "text/plain": [
       "datetime.date(2023, 10, 6)"
      ]
     },
     "execution_count": 22,
     "metadata": {},
     "output_type": "execute_result"
    }
   ],
   "source": [
    "## backward date\n",
    "# currentdate - datetime.timedelta(days=150)"
   ]
  },
  {
   "cell_type": "markdown",
   "metadata": {},
   "source": [
    "write a program to calculate how many weeks and days a user has until his \\ her appointment from the current date "
   ]
  },
  {
   "cell_type": "code",
   "execution_count": null,
   "metadata": {},
   "outputs": [],
   "source": [
    "cdate=input(\"Enter your date[mm/dd/yy]\")\n",
    "condate=datetime.datetime.strptime(cdate,\"%m/%d/%Y\").date()\n",
    "currentdate - datetime.timedelta(days=14)\n",
    "condate"
   ]
  },
  {
   "cell_type": "markdown",
   "metadata": {},
   "source": [
    "correction of exercise"
   ]
  },
  {
   "cell_type": "code",
   "execution_count": 30,
   "metadata": {},
   "outputs": [
    {
     "name": "stdout",
     "output_type": "stream",
     "text": [
      "DEAR USER YOU HAVE 11 weeks and 0 days until your appointment..\n"
     ]
    }
   ],
   "source": [
    "appdate=input(\"Enter your date of appointment[yy/mm/dd]\")\n",
    "appdate_now=datetime.datetime.strptime(appdate,\"%Y/%m/%d\").date()\n",
    "currentdate=datetime.date.today()\n",
    "diff=appdate_now - currentdate\n",
    "weeks_num=diff.days//7\n",
    "days_num=diff.days % 7\n",
    "print(f\"DEAR USER YOU HAVE {weeks_num} weeks and {days_num} days until your appointment..\")"
   ]
  },
  {
   "cell_type": "markdown",
   "metadata": {},
   "source": [
    " Exercise\n",
    " write a program to the following to display patient record,\n",
    " calculate their checking fee based on the continent, \n",
    " check their bodymass index\n",
    " note read and understand the question to know what attribute are needed.\n"
   ]
  },
  {
   "cell_type": "code",
   "execution_count": 1,
   "metadata": {},
   "outputs": [
    {
     "name": "stdout",
     "output_type": "stream",
     "text": [
      "Patient Record:\n",
      "Name: John Doe\n",
      "Age: 30\n",
      "Weight: 75 kg\n",
      "Height: 1.75 m\n",
      "Continent: North America\n",
      "BMI: 24.489795918367346\n",
      "Checking Fee: 70\n"
     ]
    }
   ],
   "source": [
    "class Patient:\n",
    "    def __init__(self, name, age, weight, height, continent):\n",
    "        self.name = name\n",
    "        self.age = age\n",
    "        self.weight = weight\n",
    "        self.height = height\n",
    "        self.continent = continent\n",
    "\n",
    "    def calculate_bmi(self):\n",
    "        bmi = self.weight / (self.height ** 2)\n",
    "        return bmi\n",
    "\n",
    "    def calculate_checking_fee(self):\n",
    "        continent_fees = {\n",
    "            'Asia': 50,\n",
    "            'Africa': 40,\n",
    "            'Europe': 60,\n",
    "            'North America': 70,\n",
    "            'South America': 60,\n",
    "            'Australia': 80,\n",
    "            'Antarctica': 90\n",
    "        }\n",
    "        return continent_fees.get(self.continent, 0)\n",
    "\n",
    "    def display_record(self):\n",
    "        print(\"Patient Record:\")\n",
    "        print(\"Name:\", self.name)\n",
    "        print(\"Age:\", self.age)\n",
    "        print(\"Weight:\", self.weight, \"kg\")\n",
    "        print(\"Height:\", self.height, \"m\")\n",
    "        print(\"Continent:\", self.continent)\n",
    "        print(\"BMI:\", self.calculate_bmi())\n",
    "        print(\"Checking Fee:\", self.calculate_checking_fee())\n",
    "if __name__ == \"__main__\":\n",
    "    patient1 = Patient(\"John Doe\", 30, 75, 1.75, \"North America\")\n",
    "    patient1.display_record()\n"
   ]
  },
  {
   "cell_type": "markdown",
   "metadata": {},
   "source": [
    "CORRECTION OF EXERCISE"
   ]
  },
  {
   "cell_type": "code",
   "execution_count": 8,
   "metadata": {},
   "outputs": [],
   "source": [
    "class patientrecord:\n",
    "    def __init__(self, name,age,height,weight, complexion):\n",
    "        self.name = name\n",
    "        self.age = age\n",
    "        self.weight = height\n",
    "        self.height = weight\n",
    "        self.complexion = complexion\n",
    "    def start(self):\n",
    "        print(f'''end\n",
    "              \"name\": {self.name}\n",
    "              \"age\": {self.age}\n",
    "              \"height\":{self.height}\n",
    "              \"weight\": {self.weight}\n",
    "              \"complexion\": {self.complexion}\n",
    "              ''')\n",
    "        \n",
    "    def continetprice(self):\n",
    "        option=input(\"what is your country selection, [usa,rwanda,sweden,nigeria,canada,ghana]\")\n",
    "        if option == \"usa\":\n",
    "            print(\"The amount for usa in dollar is $95(checking body mass..online)\")\n",
    "        elif option == \"rwanda\":\n",
    "           print(\"The amount for rwanda in dollar is $80(checking body mass..online)\") \n",
    "        elif option == \"sweden\":\n",
    "            print(\"The amount for sweden in dollar is $100(checking body mass..online)\")   \n",
    "        elif option == \"nigeria\":\n",
    "            print(\"The amount for nigeria in dollar is $60(checking body mass..online)\")\n",
    "        elif option == \"canada\":\n",
    "            print(\"The amount for canada in dollar is $89(checking body mass..online)\")\n",
    "        elif option == \"ghana\":\n",
    "            print(\"The amount for ghana in dollar is $70(checking body mass..online)\")  \n",
    "    def bodymassindes(self):\n",
    "       height=float(input(\"what is your height in meters:\"))\n",
    "       weight=float(input(\"what is your weight in kg:\"))\n",
    "       bmi=weight/(height**2)\n",
    "       if bmi < 18.5:\n",
    "          print(f\"Your Bmi is {bmi}, you are underweight, see your doctor\")\n",
    "       elif bmi >= 18.5 and bmi <= 24.99:\n",
    "          print(F\"Your Bmi is {bmi}, You are healthy\")   \n",
    "       elif bmi >= 25 and bmi <= 30:\n",
    "          print(F\"Your Bmi is {bmi}, You are healthy\")   \n",
    "       else:\n",
    "          print(F\"Your Bmi is {bmi}, you are extremely obesse, see your doctor immediately..\")\n",
    "health=patientrecord(\"mary\",30,9.0,34,\"dark\")                  "
   ]
  },
  {
   "cell_type": "code",
   "execution_count": 10,
   "metadata": {},
   "outputs": [
    {
     "name": "stdout",
     "output_type": "stream",
     "text": [
      "end\n",
      "              \"name\": mary\n",
      "              \"age\": 30\n",
      "              \"height\":34\n",
      "              \"weight\": 9.0\n",
      "              \"complexion\": dark\n",
      "              \n"
     ]
    }
   ],
   "source": [
    "health.start()"
   ]
  },
  {
   "cell_type": "code",
   "execution_count": 11,
   "metadata": {},
   "outputs": [
    {
     "name": "stdout",
     "output_type": "stream",
     "text": [
      "Your Bmi is 0.10586011342155009, you are underweight, see your doctor\n"
     ]
    }
   ],
   "source": [
    "health.bodymassindes()"
   ]
  },
  {
   "cell_type": "code",
   "execution_count": 13,
   "metadata": {},
   "outputs": [
    {
     "name": "stdout",
     "output_type": "stream",
     "text": [
      "The amount for usa in dollar is $95(checking body mass..online)\n"
     ]
    }
   ],
   "source": [
    "health.continetprice()"
   ]
  },
  {
   "cell_type": "code",
   "execution_count": null,
   "metadata": {},
   "outputs": [],
   "source": []
  }
 ],
 "metadata": {
  "kernelspec": {
   "display_name": "base",
   "language": "python",
   "name": "python3"
  },
  "language_info": {
   "codemirror_mode": {
    "name": "ipython",
    "version": 3
   },
   "file_extension": ".py",
   "mimetype": "text/x-python",
   "name": "python",
   "nbconvert_exporter": "python",
   "pygments_lexer": "ipython3",
   "version": "3.11.5"
  }
 },
 "nbformat": 4,
 "nbformat_minor": 2
}
