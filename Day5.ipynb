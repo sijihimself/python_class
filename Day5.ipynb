{
 "cells": [
  {
   "cell_type": "code",
   "execution_count": 1,
   "id": "cd6ab6e1",
   "metadata": {},
   "outputs": [],
   "source": [
    "## program a software thst uses student subjects to look for the average of the scores and give a score point."
   ]
  },
  {
   "cell_type": "code",
   "execution_count": 3,
   "id": "8340c6ea",
   "metadata": {},
   "outputs": [
    {
     "name": "stdout",
     "output_type": "stream",
     "text": [
      "physics score:89\n",
      "Biology score:90\n",
      "English score:80\n",
      "chemistry score:67\n",
      "Animal husbandary score:56\n",
      "maths score:50\n",
      "history score:99\n",
      " Your avg score is 75.86 and score point is A\n"
     ]
    }
   ],
   "source": [
    "grade1=float(input(\"physics score:\"))\n",
    "grade2=float(input(\"Biology score:\"))\n",
    "grade3=float(input(\"English score:\"))\n",
    "grade4=float(input(\"chemistry score:\"))\n",
    "grade5=float(input(\"Animal husbandary score:\"))\n",
    "grade6=float(input(\"maths score:\"))\n",
    "grade7=float(input(\"history score:\"))\n",
    "import statistics as stat\n",
    "avg=round(stat.mean([grade1,grade2,grade3,grade4,grade5,grade6,grade7]),2)\n",
    "if avg >=70 and avg <=100:\n",
    "    print (f\" Your avg score is {avg} and score point is A\")\n",
    "elif avg >=60 and avg <=69.99:\n",
    "    print (f\" Your avg score is {avg} and score point is B\")    \n",
    "elif avg >=50 and avg <=59.99:\n",
    "    print (f\" Your avg score is {avg} and score point is C\")\n",
    "elif avg >=40 and avg <=49.99:\n",
    "    print (f\" Your avg score is {avg} and score point is D\")    \n",
    "else:\n",
    "    print(\"sorry you failed badly...\")\n",
    "    "
   ]
  },
  {
   "cell_type": "code",
   "execution_count": null,
   "id": "cdad513a",
   "metadata": {},
   "outputs": [],
   "source": [
    "grade1=float(input(\"physics score:\"))\n",
    "grade2=float(input(\"Biology score:\"))\n",
    "grade3=float(input(\"English score:\"))\n",
    "grade4=float(input(\"chemistry score:\"))\n",
    "grade5=float(input(\"Animal husbandary score:\"))\n",
    "grade6=float(input(\"maths score:\"))\n",
    "grade7=float(input(\"history score:\"))\n",
    "import statistics as stat\n",
    "avg=round(stat.mean([grade1,grade2,grade3,grade4,grade5,grade6,grade7]),2)\n",
    "if avg >=70 and avg <=100:\n",
    "    print (f\" Your avg score is {avg} and score point is A\")\n",
    "elif avg >=60 and avg <=69.99:\n",
    "    print (f\" Your avg score is {avg} and score point is B\")    \n",
    "elif avg >=50 and avg <=59.99:\n",
    "    print (f\" Your avg score is {avg} and score point is C\")\n",
    "elif avg >=40 and avg <=49.99:\n",
    "    print (f\" Your avg score is {avg} and score point is D\")    \n",
    "else:\n",
    "    print(\"sorry you failed badly...\")"
   ]
  },
  {
   "cell_type": "markdown",
   "id": "b4a6d164",
   "metadata": {},
   "source": [
    "## LOOPS\n"
   ]
  },
  {
   "cell_type": "code",
   "execution_count": 6,
   "id": "dc78a6f0",
   "metadata": {},
   "outputs": [
    {
     "name": "stdout",
     "output_type": "stream",
     "text": [
      "E\n",
      "a\n",
      "r\n",
      "l\n",
      "y\n",
      "c\n",
      "o\n",
      "d\n",
      "e\n",
      "Earlycode\n"
     ]
    }
   ],
   "source": [
    "## FOR LOOP: this must have a particular element or variable to loop over in which the name stand for \n",
    "## which is \"for loops\"\n",
    "word= \"Earlycode\"\n",
    "for i in word:\n",
    "    print(i)\n",
    "print(word)   "
   ]
  },
  {
   "cell_type": "code",
   "execution_count": 7,
   "id": "e8743aa2",
   "metadata": {},
   "outputs": [
    {
     "name": "stdout",
     "output_type": "stream",
     "text": [
      "apple\n",
      "banana\n",
      "cherry\n",
      "mango\n"
     ]
    }
   ],
   "source": [
    "fruits=[\"apple\",\"banana\",\"cherry\",\"mango\"]\n",
    "for h in fruits:\n",
    "    print(h)"
   ]
  },
  {
   "cell_type": "code",
   "execution_count": null,
   "id": "bf18095e",
   "metadata": {},
   "outputs": [],
   "source": [
    "word2=\"python\"\n",
    "for char in word2:\n",
    "    print(char * 6)"
   ]
  },
  {
   "cell_type": "code",
   "execution_count": 1,
   "id": "c9897c48",
   "metadata": {},
   "outputs": [
    {
     "name": "stdout",
     "output_type": "stream",
     "text": [
      "Enter The character name:earlycode\n",
      "character not found\n"
     ]
    }
   ],
   "source": [
    "## for loops(conditional statement)\n",
    "word3=\"earlycode\"\n",
    "user=input(\"Enter The character name:\")\n",
    "for t in word3:\n",
    "    if user == t:\n",
    "        print(\"character Found..\")\n",
    "        break\n",
    "else:\n",
    "    print (\"character not found\")"
   ]
  },
  {
   "cell_type": "markdown",
   "id": "240826a8",
   "metadata": {},
   "source": [
    "## while loops"
   ]
  },
  {
   "cell_type": "code",
   "execution_count": 16,
   "id": "15682618",
   "metadata": {},
   "outputs": [
    {
     "name": "stdout",
     "output_type": "stream",
     "text": [
      "1\n",
      "2\n",
      "3\n",
      "4\n",
      "5\n"
     ]
    }
   ],
   "source": [
    "i=1\n",
    "while i <= 5:\n",
    "    print(i)\n",
    "    i += 1"
   ]
  },
  {
   "cell_type": "code",
   "execution_count": 17,
   "id": "ad0f7b4f",
   "metadata": {},
   "outputs": [
    {
     "name": "stdout",
     "output_type": "stream",
     "text": [
      "what is the square number:4\n",
      "The square root of 4 is 2.0\n",
      "what is the square number:10\n"
     ]
    }
   ],
   "source": [
    "counter=10\n",
    "num=int(input(\"what is the square number:\"))\n",
    "import math\n",
    "while num !=10:\n",
    "    print(f\"The square root of {num} is {math.sqrt(num)}\")\n",
    "    num=int(input(\"what is the square number:\"))\n",
    "    counter +=1"
   ]
  },
  {
   "cell_type": "code",
   "execution_count": 21,
   "id": "68e94739",
   "metadata": {},
   "outputs": [
    {
     "name": "stdout",
     "output_type": "stream",
     "text": [
      "what is the number:5\n",
      " 5 * 1 = 5\n",
      " 5 * 2 = 10\n",
      " 5 * 3 = 15\n",
      " 5 * 4 = 20\n",
      " 5 * 5 = 25\n",
      " 5 * 6 = 30\n",
      " 5 * 7 = 35\n",
      " 5 * 8 = 40\n",
      " 5 * 9 = 45\n",
      " 5 * 10 = 50\n",
      " 5 * 11 = 55\n",
      " 5 * 12 = 60\n",
      " 5 * 13 = 65\n",
      " 5 * 14 = 70\n",
      " 5 * 15 = 75\n",
      " 5 * 16 = 80\n",
      " 5 * 17 = 85\n",
      " 5 * 18 = 90\n",
      " 5 * 19 = 95\n",
      " 5 * 20 = 100\n"
     ]
    }
   ],
   "source": [
    "counter=1\n",
    "num=int(input(\"what is the number:\"))\n",
    "while counter <=20:\n",
    "    print(f' {num} * {counter} = {num * counter}')\n",
    "    counter +=1"
   ]
  },
  {
   "cell_type": "code",
   "execution_count": 22,
   "id": "cb6dedf2",
   "metadata": {},
   "outputs": [
    {
     "name": "stdout",
     "output_type": "stream",
     "text": [
      "10\n",
      "9\n",
      "8\n",
      "7\n",
      "6\n",
      "5\n",
      "4\n",
      "3\n",
      "2\n",
      "1\n",
      "Happy New Year\n"
     ]
    }
   ],
   "source": [
    "counter=10\n",
    "while counter > 0:\n",
    "    print(counter)\n",
    "    counter -=1\n",
    "print(\"Happy New Year\")    \n",
    "    "
   ]
  },
  {
   "cell_type": "code",
   "execution_count": 25,
   "id": "434f20d6",
   "metadata": {
    "scrolled": true
   },
   "outputs": [
    {
     "name": "stdout",
     "output_type": "stream",
     "text": [
      "Enter your password:earlycode_net678\n",
      "password correct. Approved\n"
     ]
    }
   ],
   "source": [
    "## creating a program that accept a valid password\n",
    "correct_password= \"earlycode_net678\"\n",
    "password=input(\"Enter your password:\")\n",
    "if password ==correct_password:\n",
    "    print(\"password correct. Approved\")\n",
    "else:\n",
    "    print(\"Incorrect password..access denied.\")"
   ]
  },
  {
   "cell_type": "code",
   "execution_count": null,
   "id": "660de7dc",
   "metadata": {},
   "outputs": [],
   "source": []
  }
 ],
 "metadata": {
  "kernelspec": {
   "display_name": "Python 3 (ipykernel)",
   "language": "python",
   "name": "python3"
  },
  "language_info": {
   "codemirror_mode": {
    "name": "ipython",
    "version": 3
   },
   "file_extension": ".py",
   "mimetype": "text/x-python",
   "name": "python",
   "nbconvert_exporter": "python",
   "pygments_lexer": "ipython3",
   "version": "3.11.5"
  }
 },
 "nbformat": 4,
 "nbformat_minor": 5
}
