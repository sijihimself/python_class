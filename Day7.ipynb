{
 "cells": [
  {
   "cell_type": "code",
   "execution_count": 1,
   "id": "978bae4d",
   "metadata": {},
   "outputs": [],
   "source": [
    "## exercise\n",
    "## using functions, write a program to calculate the total of a customer purchase\n",
    "## including discounts and sales tax\n",
    "## if the customer purchase ia above 500000 you give discounts based on specific regions\n",
    "## south south 15%\n",
    "## south west 10%\n",
    "## south east 8%\n",
    "## north east 12%\n",
    "## north central 6%\n",
    "## the vat is slated at 3.5%\n"
   ]
  },
  {
   "cell_type": "code",
   "execution_count": 4,
   "id": "298b51d1",
   "metadata": {},
   "outputs": [
    {
     "name": "stdout",
     "output_type": "stream",
     "text": [
      "Enter customer purchase amount:500000\n",
      "Enter customer Region:south west\n",
      "____ customer Receipt____\n",
      "               \"PURCHASE AMOUNT\":500000.0\n",
      "               \"Discount\":40000.0\n",
      "               \"Tax\":17500.0\n",
      "           \"TOTAL AMOUNT INCLUDING VAT MINUS DISCOUNT\":477500.0\n"
     ]
    }
   ],
   "source": [
    "def sales():\n",
    "    purchaseamount=float(input(\"Enter customer purchase amount:\"))\n",
    "    region=input(\"Enter customer Region:\")\n",
    "    if purchaseamount >= 500000 and region ==\"south south\":\n",
    "        print(f'''____ customer Receipt____\n",
    "               \"PURCHASE AMOUNT\":{purchaseamount}\n",
    "               \"Discount\":{purchaseamount * 0.15}\n",
    "               \"Tax\":{purchaseamount * 0.035}\n",
    "               \"TOTAL AMOUNT INCLUDING VAT MINUS DISCOUNT\":{purchaseamount + (purchaseamount* 0.035)-(purchaseamount *0.15)}''')\n",
    "               \n",
    "    elif purchaseamount >= 500000 and region ==\"south east\":\n",
    "        print(f'''____ customer Receipt____\n",
    "               \"PURCHASE AMOUNT\":{purchaseamount}\n",
    "               \"Discount\":{purchaseamount * 0.1}\n",
    "               \"Tax\":{purchaseamount * 0.035}\n",
    "               \"TOTAL AMOUNT INCLUDING VAT MINUS DISCOUNT\":{purchaseamount + (purchaseamount* 0.035)-(purchaseamount *0.1)}''')\n",
    "              \n",
    "    elif purchaseamount >= 500000 and region ==\"south west\":\n",
    "            print(f'''____ customer Receipt____\n",
    "               \"PURCHASE AMOUNT\":{purchaseamount}\n",
    "               \"Discount\":{purchaseamount * 0.08}\n",
    "               \"Tax\":{purchaseamount * 0.035}\n",
    "           \"TOTAL AMOUNT INCLUDING VAT MINUS DISCOUNT\":{purchaseamount + (purchaseamount* 0.035)-(purchaseamount *0.08)}''')\n",
    "\n",
    "               \n",
    "    elif purchaseamount >= 500000 and region ==\"north east \":\n",
    "             print(f'''____ customer Receipt____\n",
    "               \"PURCHASE AMOUNT\":{purchaseamount}\n",
    "               \"Discount\":{purchaseamount * 0.12}\n",
    "               \"Tax\":{purchaseamount * 0.035}\n",
    "               \"TOTAL AMOUNT INCLUDING VAT MINUS DISCOUNT\":{purchaseamount + (purchaseamount* 0.035)-(purchaseamount *0.12)}''')\n",
    "               \n",
    "    elif purchaseamount >= 500000 and region ==\"north west \":\n",
    "            print(f'''____ customer Receipt____\n",
    "               \"PURCHASE AMOUNT\":{purchaseamount}\n",
    "               \"Discount\":{purchaseamount * 0.11}\n",
    "               \"Tax\":{purchaseamount * 0.035}\n",
    "               \"TOTAL AMOUNT INCLUDING VAT MINUS DISCOUNT\":{purchaseamount + (purchaseamount* 0.035)-(purchaseamount *0.11)}''')\n",
    "        \n",
    "    elif purchaseamount >= 500000 and region ==\"north central \":\n",
    "          print(f'''____ customer Receipt____\n",
    "               \"PURCHASE AMOUNT\":{purchaseamount}\n",
    "               \"Discount\":{purchaseamount * 0.06}\n",
    "               \"Tax\":{purchaseamount * 0.035}\n",
    "               \"TOTAL AMOUNT INCLUDING VAT MINUS DISCOUNT\":{purchaseamount + (purchaseamount* 0.035)-(purchaseamount *0.06)}''')\n",
    "             \n",
    "    else:\n",
    "        print(f'''____ customer Receipt____\n",
    "            \"PURCHASE AMOUNT\":{purchaseamount}\n",
    "            \"Discount\":{purchaseamount * 0.035}\n",
    "            \"TOTAL AMOUNT INCLUDING VAT but you have no discount try again sometime...\":{purchasement + (purchaseamount *0.035)}''')\n",
    "sales() \n",
    "        "
   ]
  },
  {
   "cell_type": "code",
   "execution_count": null,
   "id": "fd9a9c2d",
   "metadata": {},
   "outputs": [],
   "source": []
  },
  {
   "cell_type": "markdown",
   "id": "8e1edd13",
   "metadata": {},
   "source": [
    "# LAMBDA"
   ]
  },
  {
   "cell_type": "code",
   "execution_count": 1,
   "id": "c8c3f05f",
   "metadata": {},
   "outputs": [
    {
     "data": {
      "text/plain": [
       "15"
      ]
     },
     "execution_count": 1,
     "metadata": {},
     "output_type": "execute_result"
    }
   ],
   "source": [
    "def add(x,y):\n",
    "    return x+y\n",
    "add(5,10)"
   ]
  },
  {
   "cell_type": "code",
   "execution_count": 2,
   "id": "71ac0939",
   "metadata": {},
   "outputs": [
    {
     "data": {
      "text/plain": [
       "15"
      ]
     },
     "execution_count": 2,
     "metadata": {},
     "output_type": "execute_result"
    }
   ],
   "source": [
    "(lambda x,y: x+y)(5,10)"
   ]
  },
  {
   "cell_type": "code",
   "execution_count": 3,
   "id": "58903ecc",
   "metadata": {},
   "outputs": [
    {
     "data": {
      "text/plain": [
       "1002"
      ]
     },
     "execution_count": 3,
     "metadata": {},
     "output_type": "execute_result"
    }
   ],
   "source": [
    "(lambda x,y,z:x+y**z)(2,10,3)"
   ]
  },
  {
   "cell_type": "code",
   "execution_count": 5,
   "id": "16b2260c",
   "metadata": {},
   "outputs": [
    {
     "name": "stdout",
     "output_type": "stream",
     "text": [
      "squared numbers: [1, 16, 100, 10000, 9801, 7396, 144, 2025, 100]\n"
     ]
    }
   ],
   "source": [
    "## using map function with lambda\n",
    "numbers=[1,4,10,100,99,86,12,45,10]\n",
    "squared_numbers=list(map(lambda x:x**2,numbers))\n",
    "print(\"squared numbers:\",squared_numbers)"
   ]
  },
  {
   "cell_type": "code",
   "execution_count": 6,
   "id": "3e57dad5",
   "metadata": {},
   "outputs": [
    {
     "name": "stdout",
     "output_type": "stream",
     "text": [
      "even numbers: [4, 10, 100, 86, 12, 10]\n"
     ]
    }
   ],
   "source": [
    "## filter function \n",
    "num2=[1,4,10,100,99,86,12,45,10]\n",
    "ylist=list(filter(lambda x:x % 2==0,num2))\n",
    "print(\"even numbers:\", ylist)"
   ]
  },
  {
   "cell_type": "code",
   "execution_count": 9,
   "id": "a13eb80b",
   "metadata": {},
   "outputs": [
    {
     "name": "stdout",
     "output_type": "stream",
     "text": [
      "sorted numbers: [1, 4, 10, 10, 12, 45, 86, 99, 100]\n"
     ]
    }
   ],
   "source": [
    "## using a filter function\n",
    "num3=[1,4,10,100,99,86,12,45,10]\n",
    "sorted1=sorted(num3, key=lambda x: abs(x))\n",
    "print(\"sorted numbers:\", sorted1)"
   ]
  },
  {
   "cell_type": "code",
   "execution_count": null,
   "id": "4d693fa0",
   "metadata": {},
   "outputs": [],
   "source": []
  }
 ],
 "metadata": {
  "kernelspec": {
   "display_name": "Python 3 (ipykernel)",
   "language": "python",
   "name": "python3"
  },
  "language_info": {
   "codemirror_mode": {
    "name": "ipython",
    "version": 3
   },
   "file_extension": ".py",
   "mimetype": "text/x-python",
   "name": "python",
   "nbconvert_exporter": "python",
   "pygments_lexer": "ipython3",
   "version": "3.11.5"
  }
 },
 "nbformat": 4,
 "nbformat_minor": 5
}
