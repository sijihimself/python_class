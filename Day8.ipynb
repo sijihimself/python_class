{
 "cells": [
  {
   "cell_type": "markdown",
   "id": "b4e30a08",
   "metadata": {},
   "source": [
    "# OOP (OBJECT ORIENTED PROGRAMMING)"
   ]
  },
  {
   "cell_type": "code",
   "execution_count": 6,
   "id": "ca948dd2",
   "metadata": {},
   "outputs": [],
   "source": [
    "class person:\n",
    "    attrl1=\"sam\"\n",
    "    attrl2=\"male\"\n",
    "    attrl3= 30\n",
    "human=person()        "
   ]
  },
  {
   "cell_type": "code",
   "execution_count": 7,
   "id": "1c48669f",
   "metadata": {},
   "outputs": [
    {
     "data": {
      "text/plain": [
       "'sam'"
      ]
     },
     "execution_count": 7,
     "metadata": {},
     "output_type": "execute_result"
    }
   ],
   "source": [
    "human.attrl1"
   ]
  },
  {
   "cell_type": "code",
   "execution_count": 8,
   "id": "84c4ed68",
   "metadata": {},
   "outputs": [
    {
     "data": {
      "text/plain": [
       "'male'"
      ]
     },
     "execution_count": 8,
     "metadata": {},
     "output_type": "execute_result"
    }
   ],
   "source": [
    "human.attrl2"
   ]
  },
  {
   "cell_type": "code",
   "execution_count": 9,
   "id": "aa94785c",
   "metadata": {},
   "outputs": [
    {
     "data": {
      "text/plain": [
       "30"
      ]
     },
     "execution_count": 9,
     "metadata": {},
     "output_type": "execute_result"
    }
   ],
   "source": [
    "human.attrl3"
   ]
  },
  {
   "cell_type": "markdown",
   "id": "63b91842",
   "metadata": {},
   "source": [
    "# ADDING FUNCTION TO CLASS (METHOD)"
   ]
  },
  {
   "cell_type": "code",
   "execution_count": 19,
   "id": "2ea68598",
   "metadata": {},
   "outputs": [],
   "source": [
    "class person:\n",
    "    attrl1=\"sam\"\n",
    "    attrl2=\"male\"\n",
    "    attrl3= 30\n",
    "    def __init__(self):\n",
    "        self.attrl1\n",
    "        self.attrl2\n",
    "        self.attrl3\n",
    "    def details(self):\n",
    "        print(f\"\"\" name: {self.attrl1}\n",
    "        gender:{self.attrl2}\n",
    "        age:{self.attrl3}\"\"\")\n",
    "    def action(self):\n",
    "        print(f\"my name is {self.attrl1} and my age is {self.attrl3} and gender is {self.attrl2}\")\n",
    "person1=person()\n",
    "            "
   ]
  },
  {
   "cell_type": "code",
   "execution_count": 22,
   "id": "68c9c39e",
   "metadata": {},
   "outputs": [
    {
     "name": "stdout",
     "output_type": "stream",
     "text": [
      " name: sam\n",
      "        gender:male\n",
      "        age:30\n"
     ]
    }
   ],
   "source": [
    "person1.details()"
   ]
  },
  {
   "cell_type": "code",
   "execution_count": 26,
   "id": "9700422e",
   "metadata": {},
   "outputs": [
    {
     "name": "stdout",
     "output_type": "stream",
     "text": [
      "my name is sam and my age is 30 and gender is male\n"
     ]
    }
   ],
   "source": [
    "person1.action()"
   ]
  },
  {
   "cell_type": "code",
   "execution_count": 28,
   "id": "91266b5b",
   "metadata": {},
   "outputs": [
    {
     "data": {
      "text/plain": [
       "'sam'"
      ]
     },
     "execution_count": 28,
     "metadata": {},
     "output_type": "execute_result"
    }
   ],
   "source": [
    "person1.attrl1"
   ]
  },
  {
   "cell_type": "markdown",
   "id": "3c113b94",
   "metadata": {},
   "source": [
    "# create a bank app"
   ]
  },
  {
   "cell_type": "code",
   "execution_count": 35,
   "id": "481b5353",
   "metadata": {},
   "outputs": [],
   "source": [
    "class sijicashApp:\n",
    "    def __init__(self):\n",
    "        self.balance= 0\n",
    "    def deposit(self):\n",
    "        amount=float(input(\"Enter deposit amount:\"))\n",
    "        self.balance += amount\n",
    "        print(\"Transaction successfully completed...\")\n",
    "    def transfer(self):\n",
    "        amount=float(input(\"Enter transfer amount\"))\n",
    "        bank_name=input(\"Enter bank name:\")\n",
    "        acct_number=input(\"Enter receiver account number:\")\n",
    "        if amount > self.balance or amount == 0:\n",
    "            print(\"cannot complete transaction due to zero or insufficient funds\")\n",
    "        else:\n",
    "            self.balance-= amount\n",
    "            print(\"Transaction successfully completed>>>>\")\n",
    "    def airtime(self):\n",
    "        amount= float(input(\"Enter airtime amount:\"))\n",
    "        provider= input(\"Enter provider name:\")\n",
    "        phone_number=input(\"Enter phone number:\")\n",
    "        if amount > self.balance or amount == 0:\n",
    "            print(\"Cannot complete transaction at this moment due to zero or insufficient funds.\")\n",
    "        else:\n",
    "            self.balance -= amount\n",
    "            print(\"<<< AIRTIME TRANSFER SUCCESSFULLY >>>\")        \n",
    "    def data(self):\n",
    "        amount= float(input(\"Enter airtime amount:\"))\n",
    "        provider= input(\"Enter provider name:\")\n",
    "        phone_number=input(\"Enter phone number:\")\n",
    "        if amount > self.balance or amount == 0:\n",
    "            print(\"Cannot complete transaction at this moment due to zero or insufficient funds.\")\n",
    "        else:\n",
    "            self.balance -= amount\n",
    "            print(\"<<< DATA TRANSFER SUCCESSFULLY >>>\")\n",
    "    def check_balance(self):\n",
    "        print(f\"YOUR AVAILABLE BALANCE IS {self.balance}\")\n",
    "        \n",
    "bankapp=sijicashApp()\n",
    "            "
   ]
  },
  {
   "cell_type": "code",
   "execution_count": 36,
   "id": "c4b98971",
   "metadata": {},
   "outputs": [
    {
     "name": "stdout",
     "output_type": "stream",
     "text": [
      "Enter deposit amount:50000000\n",
      "Transaction successfully completed...\n"
     ]
    }
   ],
   "source": [
    "bankapp.deposit()"
   ]
  },
  {
   "cell_type": "code",
   "execution_count": 37,
   "id": "c04d7f18",
   "metadata": {},
   "outputs": [
    {
     "name": "stdout",
     "output_type": "stream",
     "text": [
      "Enter transfer amount5000\n",
      "Enter bank name:gtbank\n",
      "Enter receiver account number:012771887\n",
      "Transaction successfully completed>>>>\n"
     ]
    }
   ],
   "source": [
    "bankapp.transfer()"
   ]
  },
  {
   "cell_type": "code",
   "execution_count": 38,
   "id": "27c663c6",
   "metadata": {},
   "outputs": [
    {
     "name": "stdout",
     "output_type": "stream",
     "text": [
      "YOUR AVAILABLE BALANCE IS 49995000.0\n"
     ]
    }
   ],
   "source": [
    "bankapp.check_balance()"
   ]
  },
  {
   "cell_type": "code",
   "execution_count": null,
   "id": "b8ce4f24",
   "metadata": {},
   "outputs": [
    {
     "name": "stdout",
     "output_type": "stream",
     "text": [
      "<<<<\n",
      "WELCOME TO SIJICASHAPP\n",
      ">>>>\n",
      "1. Deposit\n",
      "2. Transfer\n",
      "3. Airtime Purchase\n",
      "4. Check Balance\n",
      "5. Exit\n"
     ]
    }
   ],
   "source": [
    "class sijicashApp:\n",
    "    def __init__(self):\n",
    "        self.balance= 0\n",
    "    def deposit(self):\n",
    "        amount=float(input(\"Enter deposit amount:\"))\n",
    "        self.balance += amount\n",
    "        print(\"Transaction successfully completed...\")\n",
    "    def transfer(self):\n",
    "        amount=float(input(\"Enter transfer amount\"))\n",
    "        bank_name=input(\"Enter bank name:\")\n",
    "        acct_number=input(\"Enter receiver account number:\")\n",
    "        if amount > self.balance or amount == 0:\n",
    "            print(\"cannot complete transaction due to zero or insufficient funds\")\n",
    "        else:\n",
    "            self.balance-= amount\n",
    "            print(\"Transaction successfully completed>>>>\")\n",
    "    def airtime(self):\n",
    "        amount= float(input(\"Enter airtime amount:\"))\n",
    "        provider= input(\"Enter provider name:\")\n",
    "        phone_number=input(\"Enter phone number:\")\n",
    "        if amount > self.balance or amount == 0:\n",
    "            print(\"Cannot complete transaction at this moment due to zero or insufficient funds.\")\n",
    "        else:\n",
    "            self.balance -= amount\n",
    "            print(\"<<< AIRTIME TRANSFER SUCCESSFULLY >>>\")        \n",
    "    def data(self):\n",
    "        amount= float(input(\"Enter airtime amount:\"))\n",
    "        provider= input(\"Enter provider name:\")\n",
    "        phone_number=input(\"Enter phone number:\")\n",
    "        if amount > self.balance or amount == 0:\n",
    "            print(\"Cannot complete transaction at this moment due to zero or insufficient funds.\")\n",
    "        else:\n",
    "            self.balance -= amount\n",
    "            print(\"<<< DATA TRANSFER SUCCESSFULLY >>>\")\n",
    "    def check_balance(self):\n",
    "        print(f\"YOUR AVAILABLE BALANCE IS {self.balance}\")\n",
    "        \n",
    "def main():\n",
    "    bankapp=sijicashApp()\n",
    "    while True:\n",
    "        print(\"<<<<\\nWELCOME TO SIJICASHAPP\\n>>>>\")\n",
    "        print(\"1. Deposit\")\n",
    "        print(\"2. Transfer\")\n",
    "        print(\"3. Airtime Purchase\")\n",
    "        print(\"4. Check Balance\")\n",
    "        print(\"5. Exit\")\n",
    "        choice=input(\"\\nselect an option:\")\n",
    "        if choice== \"1\":\n",
    "            bankapp.deposit()\n",
    "        elif choice ==\"2\":\n",
    "            bankapp.transfer()\n",
    "        elif choice ==\"3\":\n",
    "            bankapp.airtime()\n",
    "        elif choice ==\"4\":\n",
    "            bankapp.check_balance()\n",
    "        elif choice ==\"5\":\n",
    "            print(\"THANK YOU FOR BANKING WITH US....\")\n",
    "            break\n",
    "        else:\n",
    "            print(\"INVALID CHOICE!!! please select the valid option.\")\n",
    "if __name__==\"__main__\":\n",
    "    main()\n",
    "             "
   ]
  },
  {
   "cell_type": "code",
   "execution_count": null,
   "id": "b00713a9",
   "metadata": {},
   "outputs": [],
   "source": []
  },
  {
   "cell_type": "code",
   "execution_count": null,
   "id": "111cbfcf",
   "metadata": {},
   "outputs": [],
   "source": []
  }
 ],
 "metadata": {
  "kernelspec": {
   "display_name": "Python 3 (ipykernel)",
   "language": "python",
   "name": "python3"
  },
  "language_info": {
   "codemirror_mode": {
    "name": "ipython",
    "version": 3
   },
   "file_extension": ".py",
   "mimetype": "text/x-python",
   "name": "python",
   "nbconvert_exporter": "python",
   "pygments_lexer": "ipython3",
   "version": "3.11.5"
  }
 },
 "nbformat": 4,
 "nbformat_minor": 5
}
